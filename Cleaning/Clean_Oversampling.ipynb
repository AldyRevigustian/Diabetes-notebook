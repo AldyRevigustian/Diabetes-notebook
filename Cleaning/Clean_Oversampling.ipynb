{
 "cells": [
  {
   "cell_type": "code",
   "execution_count": 49,
   "metadata": {},
   "outputs": [],
   "source": [
    "import pandas as pd\n",
    "import matplotlib.pyplot as plt\n",
    "from sklearn.utils import resample\n",
    "from imblearn.over_sampling import SMOTE\n",
    "import seaborn as sns\n",
    "from sklearn.impute import SimpleImputer\n",
    "from sklearn.model_selection import train_test_split"
   ]
  },
  {
   "cell_type": "code",
   "execution_count": 50,
   "metadata": {},
   "outputs": [
    {
     "name": "stdout",
     "output_type": "stream",
     "text": [
      "<class 'pandas.core.frame.DataFrame'>\n",
      "RangeIndex: 211833 entries, 0 to 211832\n",
      "Data columns (total 25 columns):\n",
      " #   Column                                                              Non-Null Count   Dtype  \n",
      "---  ------                                                              --------------   -----  \n",
      " 0   id                                                                  211833 non-null  int64  \n",
      " 1   Age (y)                                                             211833 non-null  int64  \n",
      " 2   Gender(1, male; 2, female)                                          211833 non-null  int64  \n",
      " 3   site                                                                211833 non-null  int64  \n",
      " 4   height(cm)                                                          211831 non-null  float64\n",
      " 5   weight(kg)                                                          211833 non-null  float64\n",
      " 6   BMI(kg/m2)                                                          211833 non-null  float64\n",
      " 7   SBP(mmHg)                                                           211810 non-null  float64\n",
      " 8   DBP(mmHg)                                                           211809 non-null  float64\n",
      " 9   FPG (mmol/L)                                                        211833 non-null  float64\n",
      " 10  Cholesterol(mmol/L)                                                 206979 non-null  float64\n",
      " 11  Triglyceride(mmol/L)                                                206946 non-null  float64\n",
      " 12  HDL-c(mmol/L)                                                       117271 non-null  float64\n",
      " 13  LDL(mmol/L)                                                         118412 non-null  float64\n",
      " 14  ALT(U/L)                                                            210051 non-null  float64\n",
      " 15  AST(U/L)                                                            88543 non-null   float64\n",
      " 16  BUN(mmol/L)                                                         190282 non-null  float64\n",
      " 17  CCR(umol/L)                                                         200658 non-null  float64\n",
      " 18  FPG of final visit(mmol/L)                                          211814 non-null  float64\n",
      " 19  Diabetes diagnosed during followup（1,Yes）                           1304 non-null    float64\n",
      " 20  censor of diabetes at followup(1, Yes; 0, No)                       211833 non-null  int64  \n",
      " 21  year of followup                                                    211833 non-null  float64\n",
      " 22  smoking status(1,current smoker;2, ever smoker;3,never smoker)      60230 non-null   float64\n",
      " 23  drinking status(1,current drinker;2, ever drinker;3,never drinker)  60230 non-null   float64\n",
      " 24  family histroy of diabetes(1,Yes;0,No)                              211833 non-null  int64  \n",
      "dtypes: float64(19), int64(6)\n",
      "memory usage: 40.4 MB\n",
      "None\n"
     ]
    }
   ],
   "source": [
    "file_path = \"dataset_kotor.xlsx\"\n",
    "df = pd.read_excel(file_path, engine=\"openpyxl\")\n",
    "print(df.info())"
   ]
  },
  {
   "cell_type": "code",
   "execution_count": 51,
   "metadata": {},
   "outputs": [
    {
     "name": "stdout",
     "output_type": "stream",
     "text": [
      "<class 'pandas.core.frame.DataFrame'>\n",
      "RangeIndex: 211833 entries, 0 to 211832\n",
      "Data columns (total 19 columns):\n",
      " #   Column                                                              Non-Null Count   Dtype  \n",
      "---  ------                                                              --------------   -----  \n",
      " 0   Age (y)                                                             211833 non-null  int64  \n",
      " 1   Gender(1, male; 2, female)                                          211833 non-null  int64  \n",
      " 2   BMI(kg/m2)                                                          211833 non-null  float64\n",
      " 3   SBP(mmHg)                                                           211810 non-null  float64\n",
      " 4   DBP(mmHg)                                                           211809 non-null  float64\n",
      " 5   FPG (mmol/L)                                                        211833 non-null  float64\n",
      " 6   Cholesterol(mmol/L)                                                 206979 non-null  float64\n",
      " 7   Triglyceride(mmol/L)                                                206946 non-null  float64\n",
      " 8   HDL-c(mmol/L)                                                       117271 non-null  float64\n",
      " 9   LDL(mmol/L)                                                         118412 non-null  float64\n",
      " 10  ALT(U/L)                                                            210051 non-null  float64\n",
      " 11  AST(U/L)                                                            88543 non-null   float64\n",
      " 12  BUN(mmol/L)                                                         190282 non-null  float64\n",
      " 13  CCR(umol/L)                                                         200658 non-null  float64\n",
      " 14  FPG of final visit(mmol/L)                                          211814 non-null  float64\n",
      " 15  Diabetes diagnosed during followup（1,Yes）                           1304 non-null    float64\n",
      " 16  smoking status(1,current smoker;2, ever smoker;3,never smoker)      60230 non-null   float64\n",
      " 17  drinking status(1,current drinker;2, ever drinker;3,never drinker)  60230 non-null   float64\n",
      " 18  family histroy of diabetes(1,Yes;0,No)                              211833 non-null  int64  \n",
      "dtypes: float64(16), int64(3)\n",
      "memory usage: 30.7 MB\n",
      "None\n"
     ]
    }
   ],
   "source": [
    "df_cleaned = df.drop(\n",
    "    columns=[\n",
    "        \"id\",\n",
    "        \"site\",\n",
    "        \"height(cm)\",\n",
    "        \"weight(kg)\",\n",
    "        \"year of followup\",\n",
    "        \"censor of diabetes at followup(1, Yes; 0, No)\",\n",
    "    ]\n",
    ")\n",
    "print(df_cleaned.info())"
   ]
  },
  {
   "cell_type": "code",
   "execution_count": 52,
   "metadata": {},
   "outputs": [
    {
     "name": "stdout",
     "output_type": "stream",
     "text": [
      "   Age  Gender   BMI    SBP   DBP   FPG  Chol   Tri   HDL   LDL   ALT   AST  \\\n",
      "0   43       2  19.3   96.0  57.0  4.99  5.13  0.78   NaN   NaN  10.0   NaN   \n",
      "1   34       1  20.0  124.0  69.0  3.51  4.61  1.75  1.09  3.13  29.1   NaN   \n",
      "2   32       2  20.7   98.0  68.0  4.25  4.73  0.47   NaN   NaN   6.9  19.5   \n",
      "3   59       1  23.1  136.0  73.0  5.70  4.50  0.75  1.53  2.80  15.0   NaN   \n",
      "4   30       2  18.1  107.0  76.0  4.42  3.48  0.52  1.55  1.43  12.0  19.9   \n",
      "\n",
      "    BUN   CCR  FFPG  smoking  drinking  family_history  Diabetes  \n",
      "0  3.08  50.3  4.97      3.0       3.0               1       NaN  \n",
      "1  6.13  83.7  5.50      NaN       NaN               0       NaN  \n",
      "2  4.45  42.8  4.90      NaN       NaN               0       NaN  \n",
      "3  5.76  62.6  5.50      3.0       3.0               0       NaN  \n",
      "4  2.51  48.9  4.82      NaN       NaN               0       NaN  \n"
     ]
    }
   ],
   "source": [
    "new_column_names = {\n",
    "    \"Age (y)\": \"Age\",\n",
    "    \"Gender(1, male; 2, female)\": \"Gender\",\n",
    "    \"BMI(kg/m2)\": \"BMI\",\n",
    "    \"SBP(mmHg)\": \"SBP\",\n",
    "    \"DBP(mmHg)\": \"DBP\",\n",
    "    \"FPG (mmol/L)\": \"FPG\",\n",
    "    \"Cholesterol(mmol/L)\": \"Chol\",\n",
    "    \"Triglyceride(mmol/L)\": \"Tri\",\n",
    "    \"HDL-c(mmol/L)\": \"HDL\",\n",
    "    \"LDL(mmol/L)\": \"LDL\",\n",
    "    \"ALT(U/L)\": \"ALT\",\n",
    "    \"AST(U/L)\": \"AST\", \n",
    "    \"BUN(mmol/L)\": \"BUN\",\n",
    "    \"CCR(umol/L)\": \"CCR\",\n",
    "    \"FPG of final visit(mmol/L)\": \"FFPG\",\n",
    "    \"Diabetes diagnosed during followup（1,Yes）\": \"Diabetes\",\n",
    "    \"smoking status(1,current smoker;2, ever smoker;3,never smoker)\": \"smoking\",\n",
    "    \"drinking status(1,current drinker;2, ever drinker;3,never drinker)\": \"drinking\",\n",
    "    \"family histroy of diabetes(1,Yes;0,No)\": \"family_history\",\n",
    "}\n",
    "\n",
    "df_cleaned.rename(columns=new_column_names, inplace=True)\n",
    "\n",
    "new_order = [\n",
    "    \"Age\", \"Gender\", \"BMI\", \"SBP\", \"DBP\", \"FPG\", \"Chol\", \"Tri\", \"HDL\", \"LDL\",\n",
    "    \"ALT\", \"AST\", \"BUN\", \"CCR\", \"FFPG\", \"smoking\", \"drinking\", \"family_history\", \"Diabetes\"\n",
    "]\n",
    "\n",
    "df_cleaned = df_cleaned[new_order]\n",
    "\n",
    "print(df_cleaned.head())"
   ]
  },
  {
   "cell_type": "code",
   "execution_count": 53,
   "metadata": {},
   "outputs": [
    {
     "data": {
      "text/plain": [
       "Age                    0\n",
       "Gender                 0\n",
       "BMI                    0\n",
       "SBP                   23\n",
       "DBP                   24\n",
       "FPG                    0\n",
       "Chol                4854\n",
       "Tri                 4887\n",
       "HDL                94562\n",
       "LDL                93421\n",
       "ALT                 1782\n",
       "AST               123290\n",
       "BUN                21551\n",
       "CCR                11175\n",
       "FFPG                  19\n",
       "smoking           151603\n",
       "drinking          151603\n",
       "family_history         0\n",
       "Diabetes          210529\n",
       "dtype: int64"
      ]
     },
     "execution_count": 53,
     "metadata": {},
     "output_type": "execute_result"
    }
   ],
   "source": [
    "df_cleaned.isnull().sum()"
   ]
  },
  {
   "cell_type": "code",
   "execution_count": 54,
   "metadata": {},
   "outputs": [
    {
     "name": "stderr",
     "output_type": "stream",
     "text": [
      "D:\\TEMP\\ipykernel_5576\\4294655226.py:1: FutureWarning: A value is trying to be set on a copy of a DataFrame or Series through chained assignment using an inplace method.\n",
      "The behavior will change in pandas 3.0. This inplace method will never work because the intermediate object on which we are setting values always behaves as a copy.\n",
      "\n",
      "For example, when doing 'df[col].method(value, inplace=True)', try using 'df.method({col: value}, inplace=True)' or df[col] = df[col].method(value) instead, to perform the operation inplace on the original object.\n",
      "\n",
      "\n",
      "  df_cleaned[\"Diabetes\"].fillna(0, inplace=True)\n"
     ]
    }
   ],
   "source": [
    "df_cleaned[\"Diabetes\"].fillna(0, inplace=True)\n",
    "df_cleaned['Diabetes'] = df_cleaned['Diabetes'].astype('int64')"
   ]
  },
  {
   "cell_type": "code",
   "execution_count": 56,
   "metadata": {},
   "outputs": [
    {
     "data": {
      "text/plain": [
       "Age                    0\n",
       "Gender                 0\n",
       "BMI                    0\n",
       "SBP                   23\n",
       "DBP                   24\n",
       "FPG                    0\n",
       "Chol                4854\n",
       "Tri                 4887\n",
       "HDL                94562\n",
       "LDL                93421\n",
       "ALT                 1782\n",
       "AST               123290\n",
       "BUN                21551\n",
       "CCR                11175\n",
       "FFPG                  19\n",
       "smoking           151603\n",
       "drinking          151603\n",
       "family_history         0\n",
       "Diabetes               0\n",
       "dtype: int64"
      ]
     },
     "execution_count": 56,
     "metadata": {},
     "output_type": "execute_result"
    }
   ],
   "source": [
    "df_cleaned.isnull().sum()"
   ]
  },
  {
   "cell_type": "code",
   "execution_count": 57,
   "metadata": {},
   "outputs": [
    {
     "name": "stdout",
     "output_type": "stream",
     "text": [
      "Diabetes\n",
      "0    12522\n",
      "1     1304\n",
      "Name: count, dtype: int64\n"
     ]
    }
   ],
   "source": [
    "df_diabetes_0 = df_cleaned[df_cleaned[\"Diabetes\"] == 0]\n",
    "df_diabetes_0 = df_diabetes_0.dropna()\n",
    "df_diabetes_1 = df_cleaned[df_cleaned[\"Diabetes\"] == 1]\n",
    "df_cleaned = pd.concat([df_diabetes_0, df_diabetes_1], ignore_index=True)\n",
    "\n",
    "print(df_cleaned[\"Diabetes\"].value_counts())"
   ]
  },
  {
   "cell_type": "code",
   "execution_count": 58,
   "metadata": {},
   "outputs": [
    {
     "name": "stdout",
     "output_type": "stream",
     "text": [
      "<class 'pandas.core.frame.DataFrame'>\n",
      "RangeIndex: 13826 entries, 0 to 13825\n",
      "Data columns (total 19 columns):\n",
      " #   Column          Non-Null Count  Dtype  \n",
      "---  ------          --------------  -----  \n",
      " 0   Age             13826 non-null  int64  \n",
      " 1   Gender          13826 non-null  int64  \n",
      " 2   BMI             13826 non-null  float64\n",
      " 3   SBP             13826 non-null  float64\n",
      " 4   DBP             13826 non-null  float64\n",
      " 5   FPG             13826 non-null  float64\n",
      " 6   Chol            13812 non-null  float64\n",
      " 7   Tri             13812 non-null  float64\n",
      " 8   HDL             13414 non-null  float64\n",
      " 9   LDL             13431 non-null  float64\n",
      " 10  ALT             13817 non-null  float64\n",
      " 11  AST             13064 non-null  float64\n",
      " 12  BUN             13730 non-null  float64\n",
      " 13  CCR             13792 non-null  float64\n",
      " 14  FFPG            13807 non-null  float64\n",
      " 15  smoking         12937 non-null  float64\n",
      " 16  drinking        12937 non-null  float64\n",
      " 17  family_history  13826 non-null  int64  \n",
      " 18  Diabetes        13826 non-null  int64  \n",
      "dtypes: float64(15), int64(4)\n",
      "memory usage: 2.0 MB\n",
      "None\n"
     ]
    }
   ],
   "source": [
    "print(df_cleaned.info())"
   ]
  },
  {
   "cell_type": "code",
   "execution_count": 59,
   "metadata": {},
   "outputs": [
    {
     "data": {
      "image/png": "[encoded data removed]",
      "text/plain": [
       "<Figure size 600x600 with 1 Axes>"
      ]
     },
     "metadata": {},
     "output_type": "display_data"
    }
   ],
   "source": [
    "diabetes_counts = df_cleaned[\"Diabetes\"].value_counts()\n",
    "\n",
    "labels = ['Non-Diabetes (0)', 'Diabetes (1)']\n",
    "\n",
    "plt.figure(figsize=(6,6))\n",
    "plt.pie(\n",
    "    diabetes_counts, \n",
    "    labels=labels, \n",
    "    autopct='%1.1f%%', \n",
    "    startangle=140, \n",
    ")\n",
    "plt.title('Distribution of Diabetes Status')\n",
    "plt.show()"
   ]
  },
  {
   "cell_type": "code",
   "execution_count": null,
   "metadata": {},
   "outputs": [
    {
     "name": "stdout",
     "output_type": "stream",
     "text": [
      "\n",
      "Distribusi data per subset:\n",
      "dataset\n",
      "train         17530\n",
      "validation     2074\n",
      "test           2074\n",
      "Name: count, dtype: int64\n",
      "\n",
      "Distribusi Diabetes per subset:\n",
      "dataset     Diabetes\n",
      "test        0           1879\n",
      "            1            195\n",
      "train       0           8765\n",
      "            1           8765\n",
      "validation  0           1878\n",
      "            1            196\n",
      "Name: count, dtype: int64\n",
      "\n",
      "Missing values setelah imputation:\n",
      "Age               0\n",
      "Gender            0\n",
      "BMI               0\n",
      "SBP               0\n",
      "DBP               0\n",
      "FPG               0\n",
      "Chol              0\n",
      "Tri               0\n",
      "HDL               0\n",
      "LDL               0\n",
      "ALT               0\n",
      "AST               0\n",
      "BUN               0\n",
      "CCR               0\n",
      "FFPG              0\n",
      "smoking           0\n",
      "drinking          0\n",
      "family_history    0\n",
      "Diabetes          0\n",
      "dataset           0\n",
      "dtype: int64\n"
     ]
    }
   ],
   "source": [
    "X = df_cleaned.drop(columns=[\"Diabetes\"])\n",
    "y = df_cleaned[\"Diabetes\"]\n",
    "\n",
    "imputer = SimpleImputer(strategy=\"mean\")\n",
    "X_imputed = imputer.fit_transform(X)\n",
    "\n",
    "X = pd.DataFrame(X_imputed, columns=X.columns)\n",
    "\n",
    "# Split data menjadi training (70%) dan sementara (30%)\n",
    "X_train, X_temp, y_train, y_temp = train_test_split(\n",
    "    X, y, test_size=0.3, random_state=42, stratify=y\n",
    ")\n",
    "\n",
    "# Split sementara menjadi validation (50%) dan test (50%)\n",
    "X_val, X_test, y_val, y_test = train_test_split(\n",
    "    X_temp, y_temp, test_size=0.5, random_state=42, stratify=y_temp\n",
    ")\n",
    "\n",
    "# Terapkan SMOTE hanya pada training set untuk menyeimbangkan data\n",
    "smote = SMOTE(random_state=42)\n",
    "X_train_resampled, y_train_resampled = smote.fit_resample(X_train, y_train)\n",
    "\n",
    "# Buat dataframe untuk setiap subset data\n",
    "def create_dataframe(X, y, dataset_name):\n",
    "    df = pd.DataFrame(X, columns=X.columns)\n",
    "    df[\"Diabetes\"] = y.values\n",
    "    df[\"dataset\"] = dataset_name\n",
    "    return df\n",
    "\n",
    "# Buat dataframe untuk training, validation, dan test\n",
    "train_df = create_dataframe(X_train_resampled, y_train_resampled, \"train\")\n",
    "val_df = create_dataframe(X_val, y_val, \"validation\")\n",
    "test_df = create_dataframe(X_test, y_test, \"test\")\n",
    "\n",
    "# Gabungkan semua subset ke dalam satu dataframe\n",
    "final_df = pd.concat([train_df, val_df, test_df], ignore_index=True)\n",
    "\n",
    "# Konversi tipe data untuk kolom kategori\n",
    "final_df[\"smoking\"] = final_df[\"smoking\"].astype(\"int64\")\n",
    "final_df[\"drinking\"] = final_df[\"drinking\"].astype(\"int64\")\n",
    "\n",
    "# Tampilkan informasi tentang dataset\n",
    "print(\"\\nDistribusi data per subset:\")\n",
    "print(final_df[\"dataset\"].value_counts())\n",
    "\n",
    "print(\"\\nDistribusi Diabetes per subset:\")\n",
    "print(final_df.groupby(\"dataset\")[\"Diabetes\"].value_counts())"
   ]
  },
  {
   "cell_type": "code",
   "execution_count": 62,
   "metadata": {},
   "outputs": [
    {
     "data": {
      "image/png": "[encoded data removed]",
      "text/plain": [
       "<Figure size 600x600 with 1 Axes>"
      ]
     },
     "metadata": {},
     "output_type": "display_data"
    }
   ],
   "source": [
    "# Filter hanya dataset train\n",
    "df_train_only = df_cleaned[df_cleaned['dataset'] == 'train']\n",
    "\n",
    "# Hitung distribusi Diabetes hanya di train\n",
    "diabetes_counts = df_train_only[\"Diabetes\"].value_counts()\n",
    "\n",
    "labels = ['Non-Diabetes (0)', 'Diabetes (1)']\n",
    "colors = ['skyblue', 'salmon']\n",
    "\n",
    "plt.figure(figsize=(6,6))\n",
    "plt.pie(\n",
    "    diabetes_counts, \n",
    "    labels=labels, \n",
    "    autopct='%1.1f%%', \n",
    "    startangle=140,\n",
    "    colors=colors \n",
    ")\n",
    "plt.title('Distribution of Diabetes Status (Train Dataset)')\n",
    "plt.show()\n"
   ]
  },
  {
   "cell_type": "code",
   "execution_count": 63,
   "metadata": {},
   "outputs": [],
   "source": [
    "df_cleaned.to_csv('dataset_cleaned_oversampling.csv', index=False)"
   ]
  }
 ],
 "metadata": {
  "kernelspec": {
   "display_name": "Python 3",
   "language": "python",
   "name": "python3"
  },
  "language_info": {
   "codemirror_mode": {
    "name": "ipython",
    "version": 3
   },
   "file_extension": ".py",
   "mimetype": "text/x-python",
   "name": "python",
   "nbconvert_exporter": "python",
   "pygments_lexer": "ipython3",
   "version": "3.10.6"
  }
 },
 "nbformat": 4,
 "nbformat_minor": 2
}
