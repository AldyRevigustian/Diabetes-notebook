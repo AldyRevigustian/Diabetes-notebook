{
 "cells": [
  {
   "cell_type": "code",
   "execution_count": 1,
   "metadata": {},
   "outputs": [],
   "source": [
    "import pandas as pd\n",
    "import matplotlib.pyplot as plt\n",
    "from sklearn.utils import resample"
   ]
  },
  {
   "cell_type": "code",
   "execution_count": 2,
   "metadata": {},
   "outputs": [
    {
     "name": "stdout",
     "output_type": "stream",
     "text": [
      "<class 'pandas.core.frame.DataFrame'>\n",
      "RangeIndex: 211833 entries, 0 to 211832\n",
      "Data columns (total 25 columns):\n",
      " #   Column                                                              Non-Null Count   Dtype  \n",
      "---  ------                                                              --------------   -----  \n",
      " 0   id                                                                  211833 non-null  int64  \n",
      " 1   Age (y)                                                             211833 non-null  int64  \n",
      " 2   Gender(1, male; 2, female)                                          211833 non-null  int64  \n",
      " 3   site                                                                211833 non-null  int64  \n",
      " 4   height(cm)                                                          211831 non-null  float64\n",
      " 5   weight(kg)                                                          211833 non-null  float64\n",
      " 6   BMI(kg/m2)                                                          211833 non-null  float64\n",
      " 7   SBP(mmHg)                                                           211810 non-null  float64\n",
      " 8   DBP(mmHg)                                                           211809 non-null  float64\n",
      " 9   FPG (mmol/L)                                                        211833 non-null  float64\n",
      " 10  Cholesterol(mmol/L)                                                 206979 non-null  float64\n",
      " 11  Triglyceride(mmol/L)                                                206946 non-null  float64\n",
      " 12  HDL-c(mmol/L)                                                       117271 non-null  float64\n",
      " 13  LDL(mmol/L)                                                         118412 non-null  float64\n",
      " 14  ALT(U/L)                                                            210051 non-null  float64\n",
      " 15  AST(U/L)                                                            88543 non-null   float64\n",
      " 16  BUN(mmol/L)                                                         190282 non-null  float64\n",
      " 17  CCR(umol/L)                                                         200658 non-null  float64\n",
      " 18  FPG of final visit(mmol/L)                                          211814 non-null  float64\n",
      " 19  Diabetes diagnosed during followup（1,Yes）                           1304 non-null    float64\n",
      " 20  censor of diabetes at followup(1, Yes; 0, No)                       211833 non-null  int64  \n",
      " 21  year of followup                                                    211833 non-null  float64\n",
      " 22  smoking status(1,current smoker;2, ever smoker;3,never smoker)      60230 non-null   float64\n",
      " 23  drinking status(1,current drinker;2, ever drinker;3,never drinker)  60230 non-null   float64\n",
      " 24  family histroy of diabetes(1,Yes;0,No)                              211833 non-null  int64  \n",
      "dtypes: float64(19), int64(6)\n",
      "memory usage: 40.4 MB\n",
      "None\n"
     ]
    }
   ],
   "source": [
    "file_path = \"dataset_kotor.xlsx\"\n",
    "df = pd.read_excel(file_path, engine=\"openpyxl\")\n",
    "print(df.info())"
   ]
  },
  {
   "cell_type": "code",
   "execution_count": 3,
   "metadata": {},
   "outputs": [
    {
     "name": "stdout",
     "output_type": "stream",
     "text": [
      "<class 'pandas.core.frame.DataFrame'>\n",
      "RangeIndex: 211833 entries, 0 to 211832\n",
      "Data columns (total 19 columns):\n",
      " #   Column                                                              Non-Null Count   Dtype  \n",
      "---  ------                                                              --------------   -----  \n",
      " 0   Age (y)                                                             211833 non-null  int64  \n",
      " 1   Gender(1, male; 2, female)                                          211833 non-null  int64  \n",
      " 2   BMI(kg/m2)                                                          211833 non-null  float64\n",
      " 3   SBP(mmHg)                                                           211810 non-null  float64\n",
      " 4   DBP(mmHg)                                                           211809 non-null  float64\n",
      " 5   FPG (mmol/L)                                                        211833 non-null  float64\n",
      " 6   Cholesterol(mmol/L)                                                 206979 non-null  float64\n",
      " 7   Triglyceride(mmol/L)                                                206946 non-null  float64\n",
      " 8   HDL-c(mmol/L)                                                       117271 non-null  float64\n",
      " 9   LDL(mmol/L)                                                         118412 non-null  float64\n",
      " 10  ALT(U/L)                                                            210051 non-null  float64\n",
      " 11  AST(U/L)                                                            88543 non-null   float64\n",
      " 12  BUN(mmol/L)                                                         190282 non-null  float64\n",
      " 13  CCR(umol/L)                                                         200658 non-null  float64\n",
      " 14  FPG of final visit(mmol/L)                                          211814 non-null  float64\n",
      " 15  Diabetes diagnosed during followup（1,Yes）                           1304 non-null    float64\n",
      " 16  smoking status(1,current smoker;2, ever smoker;3,never smoker)      60230 non-null   float64\n",
      " 17  drinking status(1,current drinker;2, ever drinker;3,never drinker)  60230 non-null   float64\n",
      " 18  family histroy of diabetes(1,Yes;0,No)                              211833 non-null  int64  \n",
      "dtypes: float64(16), int64(3)\n",
      "memory usage: 30.7 MB\n",
      "None\n"
     ]
    }
   ],
   "source": [
    "df_cleaned = df.drop(\n",
    "    columns=[\n",
    "        \"id\",\n",
    "        \"site\",\n",
    "        \"height(cm)\",\n",
    "        \"weight(kg)\",\n",
    "        \"year of followup\",\n",
    "        \"censor of diabetes at followup(1, Yes; 0, No)\",\n",
    "    ]\n",
    ")\n",
    "print(df_cleaned.info())"
   ]
  },
  {
   "cell_type": "code",
   "execution_count": 4,
   "metadata": {},
   "outputs": [
    {
     "name": "stdout",
     "output_type": "stream",
     "text": [
      "   Age  Gender   BMI    SBP   DBP   FPG  Chol   Tri   HDL   LDL   ALT   AST  \\\n",
      "0   43       2  19.3   96.0  57.0  4.99  5.13  0.78   NaN   NaN  10.0   NaN   \n",
      "1   34       1  20.0  124.0  69.0  3.51  4.61  1.75  1.09  3.13  29.1   NaN   \n",
      "2   32       2  20.7   98.0  68.0  4.25  4.73  0.47   NaN   NaN   6.9  19.5   \n",
      "3   59       1  23.1  136.0  73.0  5.70  4.50  0.75  1.53  2.80  15.0   NaN   \n",
      "4   30       2  18.1  107.0  76.0  4.42  3.48  0.52  1.55  1.43  12.0  19.9   \n",
      "\n",
      "    BUN   CCR  FFPG  smoking  drinking  family_history  Diabetes  \n",
      "0  3.08  50.3  4.97      3.0       3.0               1       NaN  \n",
      "1  6.13  83.7  5.50      NaN       NaN               0       NaN  \n",
      "2  4.45  42.8  4.90      NaN       NaN               0       NaN  \n",
      "3  5.76  62.6  5.50      3.0       3.0               0       NaN  \n",
      "4  2.51  48.9  4.82      NaN       NaN               0       NaN  \n"
     ]
    }
   ],
   "source": [
    "new_column_names = {\n",
    "    \"Age (y)\": \"Age\",\n",
    "    \"Gender(1, male; 2, female)\": \"Gender\",\n",
    "    \"BMI(kg/m2)\": \"BMI\",\n",
    "    \"SBP(mmHg)\": \"SBP\",\n",
    "    \"DBP(mmHg)\": \"DBP\",\n",
    "    \"FPG (mmol/L)\": \"FPG\",\n",
    "    \"Cholesterol(mmol/L)\": \"Chol\",\n",
    "    \"Triglyceride(mmol/L)\": \"Tri\",\n",
    "    \"HDL-c(mmol/L)\": \"HDL\",\n",
    "    \"LDL(mmol/L)\": \"LDL\",\n",
    "    \"ALT(U/L)\": \"ALT\",\n",
    "    \"AST(U/L)\": \"AST\", \n",
    "    \"BUN(mmol/L)\": \"BUN\",\n",
    "    \"CCR(umol/L)\": \"CCR\",\n",
    "    \"FPG of final visit(mmol/L)\": \"FFPG\",\n",
    "    \"Diabetes diagnosed during followup（1,Yes）\": \"Diabetes\",\n",
    "    \"smoking status(1,current smoker;2, ever smoker;3,never smoker)\": \"smoking\",\n",
    "    \"drinking status(1,current drinker;2, ever drinker;3,never drinker)\": \"drinking\",\n",
    "    \"family histroy of diabetes(1,Yes;0,No)\": \"family_history\",\n",
    "}\n",
    "\n",
    "df_cleaned.rename(columns=new_column_names, inplace=True)\n",
    "\n",
    "new_order = [\n",
    "    \"Age\", \"Gender\", \"BMI\", \"SBP\", \"DBP\", \"FPG\", \"Chol\", \"Tri\", \"HDL\", \"LDL\",\n",
    "    \"ALT\", \"AST\", \"BUN\", \"CCR\", \"FFPG\", \"smoking\", \"drinking\", \"family_history\", \"Diabetes\"\n",
    "]\n",
    "\n",
    "df_cleaned = df_cleaned[new_order]\n",
    "\n",
    "print(df_cleaned.head())"
   ]
  },
  {
   "cell_type": "code",
   "execution_count": 5,
   "metadata": {},
   "outputs": [
    {
     "data": {
      "text/plain": [
       "Age                    0\n",
       "Gender                 0\n",
       "BMI                    0\n",
       "SBP                   23\n",
       "DBP                   24\n",
       "FPG                    0\n",
       "Chol                4854\n",
       "Tri                 4887\n",
       "HDL                94562\n",
       "LDL                93421\n",
       "ALT                 1782\n",
       "AST               123290\n",
       "BUN                21551\n",
       "CCR                11175\n",
       "FFPG                  19\n",
       "smoking           151603\n",
       "drinking          151603\n",
       "family_history         0\n",
       "Diabetes          210529\n",
       "dtype: int64"
      ]
     },
     "execution_count": 5,
     "metadata": {},
     "output_type": "execute_result"
    }
   ],
   "source": [
    "df_cleaned.isnull().sum()"
   ]
  },
  {
   "cell_type": "code",
   "execution_count": 6,
   "metadata": {},
   "outputs": [
    {
     "name": "stderr",
     "output_type": "stream",
     "text": [
      "D:\\TEMP\\ipykernel_10488\\1459913333.py:1: FutureWarning: A value is trying to be set on a copy of a DataFrame or Series through chained assignment using an inplace method.\n",
      "The behavior will change in pandas 3.0. This inplace method will never work because the intermediate object on which we are setting values always behaves as a copy.\n",
      "\n",
      "For example, when doing 'df[col].method(value, inplace=True)', try using 'df.method({col: value}, inplace=True)' or df[col] = df[col].method(value) instead, to perform the operation inplace on the original object.\n",
      "\n",
      "\n",
      "  df_cleaned[\"Diabetes\"].fillna(0, inplace=True)\n"
     ]
    }
   ],
   "source": [
    "df_cleaned[\"Diabetes\"].fillna(0, inplace=True)"
   ]
  },
  {
   "cell_type": "code",
   "execution_count": 7,
   "metadata": {},
   "outputs": [
    {
     "data": {
      "text/plain": [
       "Age                    0\n",
       "Gender                 0\n",
       "BMI                    0\n",
       "SBP                   23\n",
       "DBP                   24\n",
       "FPG                    0\n",
       "Chol                4854\n",
       "Tri                 4887\n",
       "HDL                94562\n",
       "LDL                93421\n",
       "ALT                 1782\n",
       "AST               123290\n",
       "BUN                21551\n",
       "CCR                11175\n",
       "FFPG                  19\n",
       "smoking           151603\n",
       "drinking          151603\n",
       "family_history         0\n",
       "Diabetes               0\n",
       "dtype: int64"
      ]
     },
     "execution_count": 7,
     "metadata": {},
     "output_type": "execute_result"
    }
   ],
   "source": [
    "df_cleaned.isnull().sum()"
   ]
  },
  {
   "cell_type": "code",
   "execution_count": 9,
   "metadata": {},
   "outputs": [
    {
     "name": "stdout",
     "output_type": "stream",
     "text": [
      "Diabetes\n",
      "0    12522\n",
      "1     1304\n",
      "Name: count, dtype: int64\n"
     ]
    }
   ],
   "source": [
    "df_diabetes_0 = df_cleaned[df_cleaned[\"Diabetes\"] == 0]\n",
    "df_diabetes_0 = df_diabetes_0.dropna()\n",
    "df_diabetes_1 = df_cleaned[df_cleaned[\"Diabetes\"] == 1]\n",
    "df_cleaned = pd.concat([df_diabetes_0, df_diabetes_1], ignore_index=True)\n",
    "df_cleaned['Diabetes'] = df_cleaned['Diabetes'].astype('int64')\n",
    "\n",
    "print(df_cleaned[\"Diabetes\"].value_counts())"
   ]
  },
  {
   "cell_type": "code",
   "execution_count": 70,
   "metadata": {},
   "outputs": [
    {
     "name": "stdout",
     "output_type": "stream",
     "text": [
      "<class 'pandas.core.frame.DataFrame'>\n",
      "RangeIndex: 13826 entries, 0 to 13825\n",
      "Data columns (total 19 columns):\n",
      " #   Column          Non-Null Count  Dtype  \n",
      "---  ------          --------------  -----  \n",
      " 0   Age             13826 non-null  int64  \n",
      " 1   Gender          13826 non-null  int64  \n",
      " 2   BMI             13826 non-null  float64\n",
      " 3   SBP             13826 non-null  float64\n",
      " 4   DBP             13826 non-null  float64\n",
      " 5   FPG             13826 non-null  float64\n",
      " 6   Chol            13812 non-null  float64\n",
      " 7   Tri             13812 non-null  float64\n",
      " 8   HDL             13414 non-null  float64\n",
      " 9   LDL             13431 non-null  float64\n",
      " 10  ALT             13817 non-null  float64\n",
      " 11  AST             13064 non-null  float64\n",
      " 12  BUN             13730 non-null  float64\n",
      " 13  CCR             13792 non-null  float64\n",
      " 14  FFPG            13807 non-null  float64\n",
      " 15  smoking         12937 non-null  float64\n",
      " 16  drinking        12937 non-null  float64\n",
      " 17  family_history  13826 non-null  int64  \n",
      " 18  Diabetes        13826 non-null  float64\n",
      "dtypes: float64(16), int64(3)\n",
      "memory usage: 2.0 MB\n",
      "None\n"
     ]
    }
   ],
   "source": [
    "print(df_cleaned.info())"
   ]
  },
  {
   "cell_type": "code",
   "execution_count": 71,
   "metadata": {},
   "outputs": [
    {
     "data": {
      "image/png": "[encoded data removed]",
      "text/plain": [
       "<Figure size 600x600 with 1 Axes>"
      ]
     },
     "metadata": {},
     "output_type": "display_data"
    }
   ],
   "source": [
    "diabetes_counts = df_cleaned[\"Diabetes\"].value_counts()\n",
    "\n",
    "labels = ['Non-Diabetes (0)', 'Diabetes (1)']\n",
    "\n",
    "plt.figure(figsize=(6,6))\n",
    "plt.pie(\n",
    "    diabetes_counts, \n",
    "    labels=labels, \n",
    "    autopct='%1.1f%%', \n",
    "    startangle=140, \n",
    ")\n",
    "plt.title('Distribution of Diabetes Status')\n",
    "plt.show()"
   ]
  },
  {
   "cell_type": "code",
   "execution_count": 72,
   "metadata": {},
   "outputs": [
    {
     "name": "stdout",
     "output_type": "stream",
     "text": [
      "Diabetes\n",
      "0.0    1304\n",
      "1.0    1304\n",
      "Name: count, dtype: int64\n"
     ]
    }
   ],
   "source": [
    "df_majority = df_cleaned[df_cleaned['Diabetes'] == 0.0]\n",
    "df_minority = df_cleaned[df_cleaned['Diabetes'] == 1.0]\n",
    "\n",
    "df_majority_undersampled = resample(\n",
    "    df_majority,\n",
    "    replace=False,  \n",
    "    n_samples=len(df_minority),\n",
    "    random_state=42\n",
    ")\n",
    "\n",
    "df_cleaned = pd.concat([df_majority_undersampled, df_minority], ignore_index=True)\n",
    "print(df_cleaned['Diabetes'].value_counts())"
   ]
  },
  {
   "cell_type": "code",
   "execution_count": 73,
   "metadata": {},
   "outputs": [
    {
     "data": {
      "image/png": "[encoded data removed]",
      "text/plain": [
       "<Figure size 600x600 with 1 Axes>"
      ]
     },
     "metadata": {},
     "output_type": "display_data"
    }
   ],
   "source": [
    "diabetes_counts = df_cleaned[\"Diabetes\"].value_counts()\n",
    "\n",
    "labels = ['Non-Diabetes (0)', 'Diabetes (1)']\n",
    "colors = ['skyblue', 'salmon']\n",
    "\n",
    "plt.figure(figsize=(6,6))\n",
    "plt.pie(\n",
    "    diabetes_counts, \n",
    "    labels=labels, \n",
    "    autopct='%1.1f%%', \n",
    "    startangle=140,\n",
    "    colors=colors \n",
    ")\n",
    "plt.title('Distribution of Diabetes Status')\n",
    "plt.show()"
   ]
  },
  {
   "cell_type": "code",
   "execution_count": 74,
   "metadata": {},
   "outputs": [
    {
     "name": "stdout",
     "output_type": "stream",
     "text": [
      "Age                 0\n",
      "Gender              0\n",
      "BMI                 0\n",
      "SBP                 0\n",
      "DBP                 0\n",
      "FPG                 0\n",
      "Chol               14\n",
      "Tri                14\n",
      "HDL               412\n",
      "LDL               395\n",
      "ALT                 9\n",
      "AST               762\n",
      "BUN                96\n",
      "CCR                34\n",
      "FFPG               19\n",
      "smoking           889\n",
      "drinking          889\n",
      "family_history      0\n",
      "Diabetes            0\n",
      "dtype: int64\n"
     ]
    }
   ],
   "source": [
    "df_diabetes_1 = df_cleaned[df_cleaned[\"Diabetes\"] == 1]\n",
    "print(df_diabetes_1.isnull().sum())"
   ]
  },
  {
   "cell_type": "code",
   "execution_count": 75,
   "metadata": {},
   "outputs": [
    {
     "name": "stdout",
     "output_type": "stream",
     "text": [
      "Diabetes\n",
      "0.0    1304\n",
      "1.0    1304\n",
      "Name: count, dtype: int64\n",
      "Age               0\n",
      "Gender            0\n",
      "BMI               0\n",
      "SBP               0\n",
      "DBP               0\n",
      "FPG               0\n",
      "Chol              0\n",
      "Tri               0\n",
      "HDL               0\n",
      "LDL               0\n",
      "ALT               0\n",
      "AST               0\n",
      "BUN               0\n",
      "CCR               0\n",
      "FFPG              0\n",
      "smoking           0\n",
      "drinking          0\n",
      "family_history    0\n",
      "Diabetes          0\n",
      "dtype: int64\n"
     ]
    }
   ],
   "source": [
    "df_diabetes_1 = df_cleaned[df_cleaned['Diabetes'] == 1.0].copy()  \n",
    "num_cols = [\"Age\", \"BMI\", \"SBP\", \"DBP\", \"FPG\", \"Chol\", \"Tri\", \"HDL\", \"LDL\", \"ALT\", \"AST\", \"BUN\", \"CCR\", \"FFPG\"]\n",
    "for col in num_cols:\n",
    "    median_value = df_diabetes_1[col].median()\n",
    "    df_diabetes_1[col] = df_diabetes_1[col].fillna(median_value)\n",
    "\n",
    "cat_cols = [\"smoking\", \"drinking\"]\n",
    "for col in cat_cols:\n",
    "    mode_value = df_diabetes_1[col].mode()[0]\n",
    "    df_diabetes_1[col] = df_diabetes_1[col].fillna(mode_value)\n",
    "\n",
    "\n",
    "df_cleaned.loc[df_cleaned['Diabetes'] == 1.0, num_cols] = df_diabetes_1[num_cols].values\n",
    "df_cleaned.loc[df_cleaned['Diabetes'] == 1.0, cat_cols] = df_diabetes_1[cat_cols].values\n",
    "\n",
    "print(df_cleaned['Diabetes'].value_counts())\n",
    "print(df_cleaned.isnull().sum())"
   ]
  },
  {
   "cell_type": "code",
   "execution_count": 76,
   "metadata": {},
   "outputs": [],
   "source": [
    "df_cleaned.to_csv('dataset_cleaned.csv', index=False)"
   ]
  }
 ],
 "metadata": {
  "kernelspec": {
   "display_name": "Python 3",
   "language": "python",
   "name": "python3"
  },
  "language_info": {
   "codemirror_mode": {
    "name": "ipython",
    "version": 3
   },
   "file_extension": ".py",
   "mimetype": "text/x-python",
   "name": "python",
   "nbconvert_exporter": "python",
   "pygments_lexer": "ipython3",
   "version": "3.10.6"
  }
 },
 "nbformat": 4,
 "nbformat_minor": 2
}
