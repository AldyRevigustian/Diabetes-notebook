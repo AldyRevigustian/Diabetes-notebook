{
 "cells": [
  {
   "cell_type": "code",
   "execution_count": 1,
   "metadata": {},
   "outputs": [],
   "source": [
    "import pandas as pd\n",
    "import re\n",
    "\n",
    "# Import required libraries\n",
    "from sklearn.model_selection  import train_test_split\n",
    "from sklearn.preprocessing import StandardScaler\n",
    "from sklearn.metrics import accuracy_score\n",
    "from sklearn.model_selection import cross_val_score\n",
    "from sklearn.model_selection import GridSearchCV\n",
    "from sklearn.model_selection import StratifiedKFold\n",
    "from sklearn.metrics import roc_auc_score, roc_curve\n",
    "from sklearn.metrics import confusion_matrix\n",
    "from sklearn.metrics import classification_report\n",
    "from sklearn.metrics import f1_score\n",
    "from sklearn import metrics\n",
    "from matplotlib import pyplot\n",
    "import seaborn as sns\n",
    "# sns.set(style= \"darkgrid\", color_codes = True)\n",
    "from catboost import CatBoostClassifier\n",
    "import pandas as pd\n",
    "from numpy import mean\n",
    "from numpy import std\n",
    "\n",
    "import warnings\n",
    "warnings.filterwarnings('ignore')"
   ]
  },
  {
   "cell_type": "code",
   "execution_count": 9,
   "metadata": {},
   "outputs": [
    {
     "name": "stdout",
     "output_type": "stream",
     "text": [
      "(21678, 20)\n",
      "<class 'pandas.core.frame.DataFrame'>\n",
      "RangeIndex: 21678 entries, 0 to 21677\n",
      "Data columns (total 20 columns):\n",
      " #   Column          Non-Null Count  Dtype  \n",
      "---  ------          --------------  -----  \n",
      " 0   Age             21678 non-null  float64\n",
      " 1   Gender          21678 non-null  float64\n",
      " 2   BMI             21678 non-null  float64\n",
      " 3   SBP             21678 non-null  float64\n",
      " 4   DBP             21678 non-null  float64\n",
      " 5   FPG             21678 non-null  float64\n",
      " 6   Chol            21678 non-null  float64\n",
      " 7   Tri             21678 non-null  float64\n",
      " 8   HDL             21678 non-null  float64\n",
      " 9   LDL             21678 non-null  float64\n",
      " 10  ALT             21678 non-null  float64\n",
      " 11  AST             21678 non-null  float64\n",
      " 12  BUN             21678 non-null  float64\n",
      " 13  CCR             21678 non-null  float64\n",
      " 14  FFPG            21678 non-null  float64\n",
      " 15  smoking         21678 non-null  int64  \n",
      " 16  drinking        21678 non-null  int64  \n",
      " 17  family_history  21678 non-null  float64\n",
      " 18  Diabetes        21678 non-null  int64  \n",
      " 19  dataset         21678 non-null  object \n",
      "dtypes: float64(16), int64(3), object(1)\n",
      "memory usage: 3.3+ MB\n",
      "None\n"
     ]
    }
   ],
   "source": [
    "file_path = \"dataset_cleaned_oversampling.csv\"\n",
    "df = pd.read_csv(file_path)\n",
    "print(df.shape)\n",
    "print(df.info()) "
   ]
  },
  {
   "cell_type": "code",
   "execution_count": 10,
   "metadata": {},
   "outputs": [
    {
     "name": "stdout",
     "output_type": "stream",
     "text": [
      "Train shape: (17530, 18)\n",
      "Validation shape: (2074, 18)\n",
      "Test shape: (2074, 18)\n"
     ]
    }
   ],
   "source": [
    "df_train = df[df['dataset'] == 'train']\n",
    "df_val = df[df['dataset'] == 'validation']\n",
    "df_test = df[df['dataset'] == 'test']\n",
    "\n",
    "X_train = df_train.drop(columns=['Diabetes', 'dataset'])\n",
    "y_train = df_train['Diabetes']\n",
    "\n",
    "X_val = df_val.drop(columns=['Diabetes', 'dataset'])\n",
    "y_val = df_val['Diabetes']\n",
    "\n",
    "X_test = df_test.drop(columns=['Diabetes', 'dataset'])\n",
    "y_test = df_test['Diabetes']\n",
    "\n",
    "print(f\"Train shape: {X_train.shape}\")\n",
    "print(f\"Validation shape: {X_val.shape}\")\n",
    "print(f\"Test shape: {X_test.shape}\")"
   ]
  },
  {
   "cell_type": "code",
   "execution_count": 16,
   "metadata": {},
   "outputs": [],
   "source": [
    "scaler = StandardScaler()\n",
    "scaled_x_train = scaler.fit_transform(X_train)\n",
    "scaled_x_val = scaler.transform(X_val)\n",
    "scaled_x_test = scaler.transform(X_test)"
   ]
  },
  {
   "cell_type": "code",
   "execution_count": null,
   "metadata": {},
   "outputs": [
    {
     "name": "stdout",
     "output_type": "stream",
     "text": [
      "0:\tlearn: 0.6166274\ttotal: 146ms\tremaining: 21.8s\n",
      "1:\tlearn: 0.5521903\ttotal: 154ms\tremaining: 11.4s\n",
      "2:\tlearn: 0.4988022\ttotal: 163ms\tremaining: 7.99s\n",
      "3:\tlearn: 0.4527288\ttotal: 170ms\tremaining: 6.19s\n",
      "4:\tlearn: 0.4133587\ttotal: 178ms\tremaining: 5.16s\n",
      "5:\tlearn: 0.3799253\ttotal: 184ms\tremaining: 4.41s\n",
      "6:\tlearn: 0.3500634\ttotal: 193ms\tremaining: 3.94s\n",
      "7:\tlearn: 0.3231808\ttotal: 199ms\tremaining: 3.53s\n",
      "8:\tlearn: 0.2994270\ttotal: 209ms\tremaining: 3.27s\n",
      "9:\tlearn: 0.2781208\ttotal: 215ms\tremaining: 3.01s\n",
      "10:\tlearn: 0.2605876\ttotal: 221ms\tremaining: 2.79s\n",
      "11:\tlearn: 0.2412247\ttotal: 227ms\tremaining: 2.61s\n",
      "12:\tlearn: 0.2264146\ttotal: 233ms\tremaining: 2.46s\n",
      "13:\tlearn: 0.2116182\ttotal: 242ms\tremaining: 2.35s\n",
      "14:\tlearn: 0.1998094\ttotal: 248ms\tremaining: 2.23s\n",
      "15:\tlearn: 0.1867920\ttotal: 256ms\tremaining: 2.15s\n",
      "16:\tlearn: 0.1756837\ttotal: 262ms\tremaining: 2.05s\n",
      "17:\tlearn: 0.1666957\ttotal: 270ms\tremaining: 1.98s\n",
      "18:\tlearn: 0.1576961\ttotal: 276ms\tremaining: 1.91s\n",
      "19:\tlearn: 0.1500515\ttotal: 285ms\tremaining: 1.85s\n",
      "20:\tlearn: 0.1423582\ttotal: 291ms\tremaining: 1.79s\n",
      "21:\tlearn: 0.1356445\ttotal: 301ms\tremaining: 1.75s\n",
      "22:\tlearn: 0.1304893\ttotal: 309ms\tremaining: 1.71s\n",
      "23:\tlearn: 0.1256473\ttotal: 318ms\tremaining: 1.67s\n",
      "24:\tlearn: 0.1211540\ttotal: 325ms\tremaining: 1.62s\n",
      "25:\tlearn: 0.1161635\ttotal: 334ms\tremaining: 1.59s\n",
      "26:\tlearn: 0.1124877\ttotal: 340ms\tremaining: 1.55s\n",
      "27:\tlearn: 0.1087021\ttotal: 349ms\tremaining: 1.52s\n",
      "28:\tlearn: 0.1045495\ttotal: 355ms\tremaining: 1.48s\n",
      "29:\tlearn: 0.1009266\ttotal: 365ms\tremaining: 1.46s\n",
      "30:\tlearn: 0.0985299\ttotal: 372ms\tremaining: 1.43s\n",
      "31:\tlearn: 0.0951670\ttotal: 383ms\tremaining: 1.41s\n",
      "32:\tlearn: 0.0930931\ttotal: 392ms\tremaining: 1.39s\n",
      "33:\tlearn: 0.0912501\ttotal: 402ms\tremaining: 1.37s\n",
      "34:\tlearn: 0.0888620\ttotal: 408ms\tremaining: 1.34s\n",
      "35:\tlearn: 0.0860927\ttotal: 418ms\tremaining: 1.32s\n",
      "36:\tlearn: 0.0842254\ttotal: 424ms\tremaining: 1.3s\n",
      "37:\tlearn: 0.0823680\ttotal: 433ms\tremaining: 1.28s\n",
      "38:\tlearn: 0.0800399\ttotal: 440ms\tremaining: 1.25s\n",
      "39:\tlearn: 0.0784634\ttotal: 449ms\tremaining: 1.23s\n",
      "40:\tlearn: 0.0766775\ttotal: 455ms\tremaining: 1.21s\n",
      "41:\tlearn: 0.0749857\ttotal: 464ms\tremaining: 1.19s\n",
      "42:\tlearn: 0.0738505\ttotal: 471ms\tremaining: 1.17s\n",
      "43:\tlearn: 0.0720702\ttotal: 480ms\tremaining: 1.16s\n",
      "44:\tlearn: 0.0709542\ttotal: 488ms\tremaining: 1.14s\n",
      "45:\tlearn: 0.0700126\ttotal: 495ms\tremaining: 1.12s\n",
      "46:\tlearn: 0.0690679\ttotal: 504ms\tremaining: 1.1s\n",
      "47:\tlearn: 0.0681192\ttotal: 511ms\tremaining: 1.08s\n",
      "48:\tlearn: 0.0670399\ttotal: 517ms\tremaining: 1.06s\n",
      "49:\tlearn: 0.0659319\ttotal: 525ms\tremaining: 1.05s\n",
      "50:\tlearn: 0.0649054\ttotal: 531ms\tremaining: 1.03s\n",
      "51:\tlearn: 0.0641247\ttotal: 539ms\tremaining: 1.02s\n",
      "52:\tlearn: 0.0631899\ttotal: 547ms\tremaining: 1s\n",
      "53:\tlearn: 0.0620755\ttotal: 555ms\tremaining: 987ms\n",
      "54:\tlearn: 0.0614563\ttotal: 563ms\tremaining: 972ms\n",
      "55:\tlearn: 0.0604860\ttotal: 571ms\tremaining: 959ms\n",
      "56:\tlearn: 0.0597509\ttotal: 578ms\tremaining: 944ms\n",
      "57:\tlearn: 0.0588374\ttotal: 587ms\tremaining: 932ms\n",
      "58:\tlearn: 0.0578809\ttotal: 595ms\tremaining: 918ms\n",
      "59:\tlearn: 0.0571006\ttotal: 605ms\tremaining: 908ms\n",
      "60:\tlearn: 0.0564316\ttotal: 615ms\tremaining: 898ms\n",
      "61:\tlearn: 0.0556999\ttotal: 625ms\tremaining: 887ms\n",
      "62:\tlearn: 0.0551546\ttotal: 631ms\tremaining: 871ms\n",
      "63:\tlearn: 0.0544376\ttotal: 640ms\tremaining: 861ms\n",
      "64:\tlearn: 0.0535452\ttotal: 648ms\tremaining: 848ms\n",
      "65:\tlearn: 0.0530292\ttotal: 655ms\tremaining: 834ms\n",
      "66:\tlearn: 0.0523978\ttotal: 664ms\tremaining: 823ms\n",
      "67:\tlearn: 0.0519695\ttotal: 670ms\tremaining: 808ms\n",
      "68:\tlearn: 0.0512919\ttotal: 679ms\tremaining: 797ms\n",
      "69:\tlearn: 0.0508023\ttotal: 685ms\tremaining: 783ms\n",
      "70:\tlearn: 0.0505538\ttotal: 694ms\tremaining: 772ms\n",
      "71:\tlearn: 0.0501345\ttotal: 700ms\tremaining: 758ms\n",
      "72:\tlearn: 0.0497108\ttotal: 708ms\tremaining: 747ms\n",
      "73:\tlearn: 0.0490739\ttotal: 714ms\tremaining: 733ms\n",
      "74:\tlearn: 0.0484704\ttotal: 722ms\tremaining: 722ms\n",
      "75:\tlearn: 0.0481352\ttotal: 728ms\tremaining: 709ms\n",
      "76:\tlearn: 0.0478716\ttotal: 736ms\tremaining: 698ms\n",
      "77:\tlearn: 0.0476331\ttotal: 743ms\tremaining: 685ms\n",
      "78:\tlearn: 0.0473818\ttotal: 751ms\tremaining: 675ms\n",
      "79:\tlearn: 0.0468979\ttotal: 757ms\tremaining: 662ms\n",
      "80:\tlearn: 0.0465772\ttotal: 765ms\tremaining: 652ms\n",
      "81:\tlearn: 0.0463007\ttotal: 772ms\tremaining: 640ms\n",
      "82:\tlearn: 0.0459968\ttotal: 781ms\tremaining: 631ms\n",
      "83:\tlearn: 0.0454351\ttotal: 788ms\tremaining: 619ms\n",
      "84:\tlearn: 0.0452541\ttotal: 798ms\tremaining: 610ms\n",
      "85:\tlearn: 0.0450060\ttotal: 805ms\tremaining: 599ms\n",
      "86:\tlearn: 0.0446688\ttotal: 816ms\tremaining: 591ms\n",
      "87:\tlearn: 0.0441267\ttotal: 826ms\tremaining: 582ms\n",
      "88:\tlearn: 0.0437124\ttotal: 836ms\tremaining: 573ms\n",
      "89:\tlearn: 0.0433562\ttotal: 843ms\tremaining: 562ms\n",
      "90:\tlearn: 0.0430753\ttotal: 852ms\tremaining: 552ms\n",
      "91:\tlearn: 0.0429238\ttotal: 859ms\tremaining: 541ms\n",
      "92:\tlearn: 0.0426829\ttotal: 867ms\tremaining: 532ms\n",
      "93:\tlearn: 0.0424751\ttotal: 873ms\tremaining: 520ms\n",
      "94:\tlearn: 0.0421569\ttotal: 882ms\tremaining: 510ms\n",
      "95:\tlearn: 0.0418725\ttotal: 888ms\tremaining: 499ms\n",
      "96:\tlearn: 0.0415375\ttotal: 895ms\tremaining: 489ms\n",
      "97:\tlearn: 0.0412881\ttotal: 901ms\tremaining: 478ms\n",
      "98:\tlearn: 0.0411931\ttotal: 909ms\tremaining: 468ms\n",
      "99:\tlearn: 0.0410110\ttotal: 915ms\tremaining: 457ms\n",
      "100:\tlearn: 0.0405989\ttotal: 923ms\tremaining: 448ms\n",
      "101:\tlearn: 0.0403607\ttotal: 929ms\tremaining: 437ms\n",
      "102:\tlearn: 0.0399669\ttotal: 937ms\tremaining: 428ms\n",
      "103:\tlearn: 0.0395998\ttotal: 943ms\tremaining: 417ms\n",
      "104:\tlearn: 0.0393754\ttotal: 951ms\tremaining: 408ms\n",
      "105:\tlearn: 0.0391639\ttotal: 958ms\tremaining: 398ms\n",
      "106:\tlearn: 0.0389880\ttotal: 966ms\tremaining: 388ms\n",
      "107:\tlearn: 0.0388106\ttotal: 973ms\tremaining: 378ms\n",
      "108:\tlearn: 0.0385233\ttotal: 982ms\tremaining: 369ms\n",
      "109:\tlearn: 0.0383930\ttotal: 987ms\tremaining: 359ms\n",
      "110:\tlearn: 0.0381137\ttotal: 995ms\tremaining: 350ms\n",
      "111:\tlearn: 0.0377679\ttotal: 1s\tremaining: 340ms\n",
      "112:\tlearn: 0.0376586\ttotal: 1.01s\tremaining: 330ms\n",
      "113:\tlearn: 0.0374088\ttotal: 1.01s\tremaining: 320ms\n",
      "114:\tlearn: 0.0371515\ttotal: 1.02s\tremaining: 311ms\n",
      "115:\tlearn: 0.0370160\ttotal: 1.03s\tremaining: 301ms\n",
      "116:\tlearn: 0.0368538\ttotal: 1.03s\tremaining: 292ms\n",
      "117:\tlearn: 0.0366543\ttotal: 1.04s\tremaining: 282ms\n",
      "118:\tlearn: 0.0364997\ttotal: 1.05s\tremaining: 273ms\n",
      "119:\tlearn: 0.0362136\ttotal: 1.05s\tremaining: 264ms\n",
      "120:\tlearn: 0.0359793\ttotal: 1.06s\tremaining: 255ms\n",
      "121:\tlearn: 0.0357020\ttotal: 1.07s\tremaining: 245ms\n",
      "122:\tlearn: 0.0356026\ttotal: 1.08s\tremaining: 236ms\n",
      "123:\tlearn: 0.0354820\ttotal: 1.08s\tremaining: 227ms\n",
      "124:\tlearn: 0.0351114\ttotal: 1.09s\tremaining: 218ms\n",
      "125:\tlearn: 0.0349263\ttotal: 1.1s\tremaining: 209ms\n",
      "126:\tlearn: 0.0348270\ttotal: 1.1s\tremaining: 200ms\n",
      "127:\tlearn: 0.0345648\ttotal: 1.11s\tremaining: 191ms\n",
      "128:\tlearn: 0.0344147\ttotal: 1.12s\tremaining: 182ms\n",
      "129:\tlearn: 0.0342341\ttotal: 1.12s\tremaining: 173ms\n",
      "130:\tlearn: 0.0341414\ttotal: 1.13s\tremaining: 164ms\n",
      "131:\tlearn: 0.0339021\ttotal: 1.14s\tremaining: 155ms\n",
      "132:\tlearn: 0.0337548\ttotal: 1.15s\tremaining: 147ms\n",
      "133:\tlearn: 0.0336397\ttotal: 1.16s\tremaining: 138ms\n",
      "134:\tlearn: 0.0332999\ttotal: 1.17s\tremaining: 130ms\n",
      "135:\tlearn: 0.0330498\ttotal: 1.17s\tremaining: 121ms\n",
      "136:\tlearn: 0.0329127\ttotal: 1.18s\tremaining: 112ms\n",
      "137:\tlearn: 0.0327924\ttotal: 1.19s\tremaining: 103ms\n",
      "138:\tlearn: 0.0325897\ttotal: 1.2s\tremaining: 94.7ms\n",
      "139:\tlearn: 0.0324674\ttotal: 1.2s\tremaining: 85.9ms\n",
      "140:\tlearn: 0.0323795\ttotal: 1.21s\tremaining: 77.3ms\n",
      "141:\tlearn: 0.0322321\ttotal: 1.22s\tremaining: 68.5ms\n",
      "142:\tlearn: 0.0319619\ttotal: 1.22s\tremaining: 59.9ms\n",
      "143:\tlearn: 0.0318615\ttotal: 1.23s\tremaining: 51.2ms\n",
      "144:\tlearn: 0.0317588\ttotal: 1.24s\tremaining: 42.7ms\n",
      "145:\tlearn: 0.0315700\ttotal: 1.24s\tremaining: 34.1ms\n",
      "146:\tlearn: 0.0314752\ttotal: 1.25s\tremaining: 25.5ms\n",
      "147:\tlearn: 0.0313072\ttotal: 1.26s\tremaining: 17ms\n",
      "148:\tlearn: 0.0311308\ttotal: 1.27s\tremaining: 8.5ms\n",
      "149:\tlearn: 0.0309314\ttotal: 1.27s\tremaining: 0us\n",
      "Best score: 0.9853\n",
      "Best parameters: {'iterations': 150, 'l2_leaf_reg': 2, 'learning_rate': 0.1, 'max_depth': 8, 'rsm': 0.6}\n"
     ]
    }
   ],
   "source": [
    "param_grid = {\n",
    "    'iterations': [50, 100, 150],\n",
    "    'learning_rate': [0.05, 0.01, 0.1],\n",
    "    'max_depth': [2, 4, 6, 8],\n",
    "    'l2_leaf_reg' : [2,4,6,8],\n",
    "    'rsm' : [0.3,0.5,0.6],\n",
    "}\n",
    "\n",
    "\n",
    "model = CatBoostClassifier()\n",
    "\n",
    "# Perform grid search to find the best hyperparameters\n",
    "kfold = StratifiedKFold(n_splits=3, shuffle=True, random_state=7)\n",
    "grid_search = GridSearchCV(model, param_grid=param_grid, cv=kfold, n_jobs=-1)\n",
    "grid_search.fit(scaled_x_train,y_train)\n",
    "\n",
    "# Print the best hyperparameters and the corresponding score\n",
    "print(\"Best score: {:.4f}\".format(grid_search.best_score_))\n",
    "print(\"Best parameters: {}\".format(grid_search.best_params_))"
   ]
  },
  {
   "cell_type": "code",
   "execution_count": 17,
   "metadata": {},
   "outputs": [
    {
     "name": "stdout",
     "output_type": "stream",
     "text": [
      "Mean Accuracy: 0.982 (0.010)\n",
      "Accuracy score (training): 0.985\n",
      "Accuracy score (validation): 0.973\n"
     ]
    }
   ],
   "source": [
    "model = CatBoostClassifier(verbose=0, eval_metric='Accuracy',iterations=150, learning_rate=0.1 ,max_depth=4 ,l2_leaf_reg=6 ,rsm=0.6)\n",
    "model.fit(scaled_x_train, y_train)\n",
    "y_pred = model.predict(scaled_x_val)\n",
    "\n",
    "cv = StratifiedKFold(n_splits=10)\n",
    "\n",
    "n_scores = cross_val_score(model, scaled_x_train, y_train, scoring='accuracy', cv=cv, n_jobs=-1)\n",
    "\n",
    "print('Mean Accuracy: %.3f (%.3f)' % (mean(n_scores), std(n_scores)))\n",
    "print(\"Accuracy score (training): {0:.3f}\".format(model.score(scaled_x_train, y_train)))\n",
    "print(\"Accuracy score (validation): {0:.3f}\".format(model.score(scaled_x_val, y_val)))"
   ]
  },
  {
   "cell_type": "code",
   "execution_count": 18,
   "metadata": {},
   "outputs": [
    {
     "name": "stdout",
     "output_type": "stream",
     "text": [
      "              precision    recall  f1-score   support\n",
      "\n",
      "           0       0.99      0.98      0.99      1878\n",
      "           1       0.82      0.92      0.87       196\n",
      "\n",
      "    accuracy                           0.97      2074\n",
      "   macro avg       0.91      0.95      0.93      2074\n",
      "weighted avg       0.98      0.97      0.97      2074\n",
      "\n",
      "Confusion Matrix : \n",
      " [[1838   40]\n",
      " [  15  181]]\n",
      "Sensitivity :  0.9787007454739084\n",
      "Specificity :  0.923469387755102\n",
      "f1 score: 0.86810551558753\n"
     ]
    }
   ],
   "source": [
    "print(classification_report(y_val,y_pred))\n",
    "cm = confusion_matrix(y_val, y_pred)\n",
    "print('Confusion Matrix : \\n', cm)\n",
    "\n",
    "total=sum(sum(cm))\n",
    "sensitivity = cm[0,0]/(cm[0,0]+cm[0,1])\n",
    "print('Sensitivity : ', sensitivity )\n",
    "specificity = cm[1,1]/(cm[1,0]+cm[1,1])\n",
    "print('Specificity : ', specificity)\n",
    "print('f1 score:', f1_score(y_val, y_pred))"
   ]
  },
  {
   "cell_type": "code",
   "execution_count": 14,
   "metadata": {},
   "outputs": [
    {
     "data": {
      "text/plain": [
       "<Axes: >"
      ]
     },
     "execution_count": 14,
     "metadata": {},
     "output_type": "execute_result"
    },
    {
     "data": {
      "image/png": "[encoded data removed]",
      "text/plain": [
       "<Figure size 640x480 with 2 Axes>"
      ]
     },
     "metadata": {},
     "output_type": "display_data"
    }
   ],
   "source": [
    "cm_matrix = pd.DataFrame(\n",
    "    data=cm,\n",
    "    columns=[\"Actual Positive\", \"Actual Negative\"],\n",
    "    index=[\"Predict Positive\", \"Predict Negative\"],\n",
    ")\n",
    "\n",
    "sns.heatmap(cm_matrix, annot=True, fmt=\"d\", cmap=\"YlGnBu\")"
   ]
  },
  {
   "cell_type": "code",
   "execution_count": 19,
   "metadata": {},
   "outputs": [
    {
     "name": "stdout",
     "output_type": "stream",
     "text": [
      "\n",
      "=== Evaluation on Test Set ===\n",
      "              precision    recall  f1-score   support\n",
      "\n",
      "           0       0.99      0.99      0.99      1879\n",
      "           1       0.89      0.92      0.90       195\n",
      "\n",
      "    accuracy                           0.98      2074\n",
      "   macro avg       0.94      0.96      0.95      2074\n",
      "weighted avg       0.98      0.98      0.98      2074\n",
      "\n",
      "Confusion Matrix (Test Set): \n",
      " [[1856   23]\n",
      " [  15  180]]\n",
      "Sensitivity (Test):  0.9877594465141033\n",
      "Specificity (Test):  0.9230769230769231\n"
     ]
    }
   ],
   "source": [
    "# Prediksi di test set\n",
    "y_test_pred = model.predict(scaled_x_test)\n",
    "\n",
    "print(\"\\n=== Evaluation on Test Set ===\")\n",
    "print(classification_report(y_test, y_test_pred))\n",
    "\n",
    "cm_test = confusion_matrix(y_test, y_test_pred)\n",
    "print('Confusion Matrix (Test Set): \\n', cm_test)\n",
    "\n",
    "# Hitung Sensitivity & Specificity di TEST\n",
    "sensitivity_test = cm_test[0,0]/(cm_test[0,0]+cm_test[0,1])\n",
    "specificity_test = cm_test[1,1]/(cm_test[1,0]+cm_test[1,1])\n",
    "print('Sensitivity (Test): ', sensitivity_test)\n",
    "print('Specificity (Test): ', specificity_test)"
   ]
  },
  {
   "cell_type": "code",
   "execution_count": null,
   "metadata": {},
   "outputs": [],
   "source": []
  }
 ],
 "metadata": {
  "kernelspec": {
   "display_name": "Python 3",
   "language": "python",
   "name": "python3"
  },
  "language_info": {
   "codemirror_mode": {
    "name": "ipython",
    "version": 3
   },
   "file_extension": ".py",
   "mimetype": "text/x-python",
   "name": "python",
   "nbconvert_exporter": "python",
   "pygments_lexer": "ipython3",
   "version": "3.10.6"
  }
 },
 "nbformat": 4,
 "nbformat_minor": 2
}
